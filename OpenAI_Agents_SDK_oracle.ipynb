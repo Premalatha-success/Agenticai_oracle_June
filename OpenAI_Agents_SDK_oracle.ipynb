{
  "nbformat": 4,
  "nbformat_minor": 0,
  "metadata": {
    "colab": {
      "provenance": []
    },
    "kernelspec": {
      "name": "python3",
      "display_name": "Python 3"
    },
    "language_info": {
      "name": "python"
    }
  },
  "cells": [
    {
      "cell_type": "code",
      "execution_count": null,
      "metadata": {
        "id": "S3RHaz5fOSk8"
      },
      "outputs": [],
      "source": [
        "!pip -q install openai-agents"
      ]
    },
    {
      "cell_type": "code",
      "source": [
        "#import markdown\n",
        "#from IPython.display import display, Markdown"
      ],
      "metadata": {
        "id": "4xPuHhjoOXKO"
      },
      "execution_count": null,
      "outputs": []
    },
    {
      "cell_type": "code",
      "source": [
        "\n",
        "import os\n",
        "from google.colab import userdata\n",
        "\n",
        "openai_api_key = userdata.get('Oracle_agenticai')\n",
        "os.environ['OPENAI_API_KEY'] = openai_api_key\n",
        "\n",
        "# Verify that the key is set\n",
        "print(f\"OpenAI API key set: {bool(openai_api_key)}\")\n"
      ],
      "metadata": {
        "colab": {
          "base_uri": "https://localhost:8080/"
        },
        "id": "26QnDY2qOjSD",
        "outputId": "f97b71e5-8729-49e4-e76b-e237f40f073e"
      },
      "execution_count": null,
      "outputs": [
        {
          "output_type": "stream",
          "name": "stdout",
          "text": [
            "OpenAI API key set: True\n"
          ]
        }
      ]
    },
    {
      "cell_type": "code",
      "source": [
        "import nest_asyncio\n",
        "nest_asyncio.apply()"
      ],
      "metadata": {
        "id": "pawLn8fjOqzN"
      },
      "execution_count": null,
      "outputs": []
    },
    {
      "cell_type": "code",
      "source": [
        "MENU_PRICES = \"\"\"\n",
        "\n",
        "# In‑N‑Out Burger Menu (2025)\n",
        "\n",
        "**Prices are approximate and subject to change.**\n",
        "\n",
        "## Burgers & Combos\n",
        "\n",
        "| Item                                    | Price  |\n",
        "|-----------------------------------------|--------|\n",
        "| Additional Burger Patty (per extra)     | $1.30  |\n",
        "| Additional Cheese Slice (per extra)     | $0.50  |\n",
        "| **Hamburger**                           | $3.60  |\n",
        "| **Hamburger Combo**                     | $8.15  |\n",
        "| **Cheeseburger**                        | $4.10  |\n",
        "| **Cheeseburger Combo**                  | $8.65  |\n",
        "| **Double Double®**                      | $5.90  |\n",
        "| **Double Double® Combo**                | $10.45 |\n",
        "| **French Fries**                        | $2.30  |\n",
        "\n",
        "## Beverages\n",
        "\n",
        "| Item                                        | Price  |\n",
        "|---------------------------------------------|--------|\n",
        "| **Coffee**                                  | $1.35  |\n",
        "| **Hot Cocoa**                               | $2.25  |\n",
        "| **Milk**                                    | $0.99  |\n",
        "| **Shakes** (Chocolate, Strawberry, Vanilla) | $3.00  |\n",
        "| **Soda (Small)**                            | $2.10  |\n",
        "| **Soda (Medium)**                           | $2.25  |\n",
        "| **Soda (Large)**                            | $2.45  |\n",
        "| **Soda (X‑Large)**                          | $2.65  |\n",
        "\n",
        "## Not‑So‑Secret Menu Options\n",
        "\n",
        "- **Protein Style Burger:** Any burger wrapped in lettuce instead of a bun.\n",
        "- **Animal Style:** Burger or fries served with a mustard‑cooked beef patty, extra spread, pickles, and grilled onions.\n",
        "\n",
        "tax not included\n",
        "\n",
        "tax is 7.25%\n",
        "\n",
        "---\"\"\""
      ],
      "metadata": {
        "id": "iafUM3diO7bo"
      },
      "execution_count": null,
      "outputs": []
    },
    {
      "cell_type": "code",
      "source": [
        "from agents import Agent, Runner\n",
        "\n",
        "agent = Agent(name=\"In-N-Out Cashier Assistant\",\n",
        "              instructions=f\"You are a helpful server at In-N-Out Burger respond to questions based on the menu below: \\n\\n{MENU_PRICES}\",\n",
        "              model=\"gpt-4o\"\n",
        "              )"
      ],
      "metadata": {
        "id": "fVuTBujAO9Ly"
      },
      "execution_count": null,
      "outputs": []
    },
    {
      "cell_type": "code",
      "source": [
        "result = Runner.run_sync(agent, \"How much is a Double Double?.\")\n",
        "print(result.final_output)"
      ],
      "metadata": {
        "colab": {
          "base_uri": "https://localhost:8080/"
        },
        "id": "C_jFrjZVO_UV",
        "outputId": "46428376-44c4-4b1b-d07f-db7d9f54b6a6"
      },
      "execution_count": null,
      "outputs": [
        {
          "output_type": "stream",
          "name": "stdout",
          "text": [
            "A Double Double® is $5.90.\n"
          ]
        }
      ]
    },
    {
      "cell_type": "code",
      "source": [
        "result = await Runner.run(agent, \"How much is a Double Double combo?.\")\n",
        "print(result.final_output)"
      ],
      "metadata": {
        "colab": {
          "base_uri": "https://localhost:8080/"
        },
        "id": "il4gGcKBPBKM",
        "outputId": "f9cae3de-6a96-4c81-fefd-bc30f6cd57af"
      },
      "execution_count": null,
      "outputs": [
        {
          "output_type": "stream",
          "name": "stdout",
          "text": [
            "The Double Double® Combo is $10.45 before tax.\n"
          ]
        }
      ]
    },
    {
      "cell_type": "code",
      "source": [
        "result = await Runner.run(agent, \"How much is a Double Double and french fries?.\")\n",
        "print(result.final_output)"
      ],
      "metadata": {
        "colab": {
          "base_uri": "https://localhost:8080/"
        },
        "id": "KAuVnmX5PC-8",
        "outputId": "01579382-8a30-4ec8-94b9-44776664203a"
      },
      "execution_count": null,
      "outputs": [
        {
          "output_type": "stream",
          "name": "stdout",
          "text": [
            "A Double Double® is $5.90, and French fries are $2.30. So the total would be $8.20 before tax.\n"
          ]
        }
      ]
    },
    {
      "cell_type": "code",
      "source": [
        "result = await Runner.run(agent, \"How much is a Double Double and french fries?.\")\n",
        "print(result.final_output)"
      ],
      "metadata": {
        "colab": {
          "base_uri": "https://localhost:8080/"
        },
        "id": "DbTSnb23PFAA",
        "outputId": "ac491e9d-73bb-4d78-92ec-b4394e3f7d42"
      },
      "execution_count": null,
      "outputs": [
        {
          "output_type": "stream",
          "name": "stdout",
          "text": [
            "A Double Double® is $5.90 and French Fries are $2.30. The total before tax is $8.20. With a 7.25% tax, the total would be approximately $8.79.\n"
          ]
        }
      ]
    },
    {
      "cell_type": "code",
      "source": [
        "result = await Runner.run(agent, \"How much is 32 Double Doubles each with french fries with tax?.\")\n",
        "print(result.final_output)"
      ],
      "metadata": {
        "colab": {
          "base_uri": "https://localhost:8080/"
        },
        "id": "ZBY0V3QZPHGP",
        "outputId": "2660060d-83fe-4af2-a7cb-9fc49141288d"
      },
      "execution_count": null,
      "outputs": [
        {
          "output_type": "stream",
          "name": "stdout",
          "text": [
            "Let's calculate the cost:\n",
            "\n",
            "- **Double Double®:** $5.90 each\n",
            "- **French Fries:** $2.30 each\n",
            "\n",
            "For 32 Double Doubles with fries:\n",
            "\n",
            "1. Double Double cost: 32 x $5.90 = $188.80\n",
            "2. Fries cost: 32 x $2.30 = $73.60\n",
            "\n",
            "Total before tax = $188.80 + $73.60 = $262.40\n",
            "\n",
            "Tax is 7.25%:  \n",
            "Tax amount = $262.40 x 0.0725 = $19.02 (approximately)\n",
            "\n",
            "Total with tax = $262.40 + $19.02 = $281.42\n",
            "\n",
            "So, the total cost is approximately **$281.42**.\n"
          ]
        }
      ]
    },
    {
      "cell_type": "code",
      "source": [
        "import asyncio\n",
        "from openai.types.responses import ResponseTextDeltaEvent\n",
        "from agents import Agent, Runner\n",
        "\n",
        "result = Runner.run_streamed(agent, input=\"How much is everything on the menu?.\")\n",
        "async for event in result.stream_events():\n",
        "    if event.type == \"raw_response_event\" and isinstance(event.data, ResponseTextDeltaEvent):\n",
        "        print(event.data.delta, end=\"\", flush=True)"
      ],
      "metadata": {
        "colab": {
          "base_uri": "https://localhost:8080/"
        },
        "id": "GYMaJfrMPI7G",
        "outputId": "41de0f08-4b6f-40fd-cb35-2b1a323f1fbb"
      },
      "execution_count": null,
      "outputs": [
        {
          "output_type": "stream",
          "name": "stdout",
          "text": [
            "Here's a breakdown of the total cost for everything on the menu before tax:\n",
            "\n",
            "### Burgers & Combos\n",
            "- Hamburger: $3.60\n",
            "- Hamburger Combo: $8.15\n",
            "- Cheeseburger: $4.10\n",
            "- Cheeseburger Combo: $8.65\n",
            "- Double Double®: $5.90\n",
            "- Double Double® Combo: $10.45\n",
            "- French Fries: $2.30\n",
            "\n",
            "### Beverages\n",
            "- Coffee: $1.35\n",
            "- Hot Cocoa: $2.25\n",
            "- Milk: $0.99\n",
            "- Shakes (Chocolate, Strawberry, Vanilla): $3.00 each\n",
            "- Soda (Small): $2.10\n",
            "- Soda (Medium): $2.25\n",
            "- Soda (Large): $2.45\n",
            "- Soda (X‑Large): $2.65\n",
            "\n",
            "### Extras\n",
            "- Additional Burger Patty: $1.30\n",
            "- Additional Cheese Slice: $0.50\n",
            "\n",
            "### Calculating Total:\n",
            "\n",
            "Burgers & Combos Total:  \n",
            "$3.60 + $8.15 + $4.10 + $8.65 + $5.90 + $10.45 + $2.30 = $43.15\n",
            "\n",
            "Beverages Total:  \n",
            "$1.35 + $2.25 + $0.99 + (3 * $3.00) + $2.10 + $2.25 + $2.45 + $2.65 = $23.04\n",
            "\n",
            "Extras Total (assuming one of each):  \n",
            "$1.30 + $0.50 = $1.80\n",
            "\n",
            "### Full Menu Total Before Tax:\n",
            "$43.15 + $23.04 + $1.80 = $68.00\n",
            "\n",
            "This is the total cost before tax. To find the total with tax, simply multiply this amount by 1.0725 (7.25% tax)."
          ]
        }
      ]
    },
    {
      "cell_type": "code",
      "source": [
        "result"
      ],
      "metadata": {
        "colab": {
          "base_uri": "https://localhost:8080/"
        },
        "id": "si9OfduUPLm8",
        "outputId": "6318b9ec-bd0f-4d35-f504-4e1b4f462d67"
      },
      "execution_count": null,
      "outputs": [
        {
          "output_type": "execute_result",
          "data": {
            "text/plain": [
              "RunResultStreaming(input='How much is everything on the menu?.', new_items=[MessageOutputItem(agent=Agent(name='In-N-Out Cashier Assistant', instructions='You are a helpful server at In-N-Out Burger respond to questions based on the menu below: \\n\\n\\n\\n# In‑N‑Out Burger Menu (2025)\\n\\n**Prices are approximate and subject to change.**\\n\\n## Burgers & Combos\\n\\n| Item                                    | Price  |\\n|-----------------------------------------|--------|\\n| Additional Burger Patty (per extra)     | $1.30  |\\n| Additional Cheese Slice (per extra)     | $0.50  |\\n| **Hamburger**                           | $3.60  |\\n| **Hamburger Combo**                     | $8.15  |\\n| **Cheeseburger**                        | $4.10  |\\n| **Cheeseburger Combo**                  | $8.65  |\\n| **Double Double®**                      | $5.90  |\\n| **Double Double® Combo**                | $10.45 |\\n| **French Fries**                        | $2.30  |\\n\\n## Beverages\\n\\n| Item                                        | Price  |\\n|---------------------------------------------|--------|\\n| **Coffee**                                  | $1.35  |\\n| **Hot Cocoa**                               | $2.25  |\\n| **Milk**                                    | $0.99  |\\n| **Shakes** (Chocolate, Strawberry, Vanilla) | $3.00  |\\n| **Soda (Small)**                            | $2.10  |\\n| **Soda (Medium)**                           | $2.25  |\\n| **Soda (Large)**                            | $2.45  |\\n| **Soda (X‑Large)**                          | $2.65  |\\n\\n## Not‑So‑Secret Menu Options\\n\\n- **Protein Style Burger:** Any burger wrapped in lettuce instead of a bun.\\n- **Animal Style:** Burger or fries served with a mustard‑cooked beef patty, extra spread, pickles, and grilled onions.\\n\\ntax not included\\n\\ntax is 7.25%\\n\\n---', prompt=None, handoff_description=None, handoffs=[], model='gpt-4o', model_settings=ModelSettings(temperature=None, top_p=None, frequency_penalty=None, presence_penalty=None, tool_choice=None, parallel_tool_calls=None, truncation=None, max_tokens=None, reasoning=None, metadata=None, store=None, include_usage=None, extra_query=None, extra_body=None, extra_headers=None, extra_args=None), tools=[], mcp_servers=[], mcp_config={}, input_guardrails=[], output_guardrails=[], output_type=None, hooks=None, tool_use_behavior='run_llm_again', reset_tool_choice=True), raw_item=ResponseOutputMessage(id='msg_685e56f7663881a0afec3c8e7880c54405eb75adf809cfb6', content=[ResponseOutputText(annotations=[], text=\"Here's a breakdown of the total cost for everything on the menu before tax:\\n\\n### Burgers & Combos\\n- Hamburger: $3.60\\n- Hamburger Combo: $8.15\\n- Cheeseburger: $4.10\\n- Cheeseburger Combo: $8.65\\n- Double Double®: $5.90\\n- Double Double® Combo: $10.45\\n- French Fries: $2.30\\n\\n### Beverages\\n- Coffee: $1.35\\n- Hot Cocoa: $2.25\\n- Milk: $0.99\\n- Shakes (Chocolate, Strawberry, Vanilla): $3.00 each\\n- Soda (Small): $2.10\\n- Soda (Medium): $2.25\\n- Soda (Large): $2.45\\n- Soda (X‑Large): $2.65\\n\\n### Extras\\n- Additional Burger Patty: $1.30\\n- Additional Cheese Slice: $0.50\\n\\n### Calculating Total:\\n\\nBurgers & Combos Total:  \\n$3.60 + $8.15 + $4.10 + $8.65 + $5.90 + $10.45 + $2.30 = $43.15\\n\\nBeverages Total:  \\n$1.35 + $2.25 + $0.99 + (3 * $3.00) + $2.10 + $2.25 + $2.45 + $2.65 = $23.04\\n\\nExtras Total (assuming one of each):  \\n$1.30 + $0.50 = $1.80\\n\\n### Full Menu Total Before Tax:\\n$43.15 + $23.04 + $1.80 = $68.00\\n\\nThis is the total cost before tax. To find the total with tax, simply multiply this amount by 1.0725 (7.25% tax).\", type='output_text', logprobs=[])], role='assistant', status='completed', type='message'), type='message_output_item')], raw_responses=[ModelResponse(output=[ResponseOutputMessage(id='msg_685e56f7663881a0afec3c8e7880c54405eb75adf809cfb6', content=[ResponseOutputText(annotations=[], text=\"Here's a breakdown of the total cost for everything on the menu before tax:\\n\\n### Burgers & Combos\\n- Hamburger: $3.60\\n- Hamburger Combo: $8.15\\n- Cheeseburger: $4.10\\n- Cheeseburger Combo: $8.65\\n- Double Double®: $5.90\\n- Double Double® Combo: $10.45\\n- French Fries: $2.30\\n\\n### Beverages\\n- Coffee: $1.35\\n- Hot Cocoa: $2.25\\n- Milk: $0.99\\n- Shakes (Chocolate, Strawberry, Vanilla): $3.00 each\\n- Soda (Small): $2.10\\n- Soda (Medium): $2.25\\n- Soda (Large): $2.45\\n- Soda (X‑Large): $2.65\\n\\n### Extras\\n- Additional Burger Patty: $1.30\\n- Additional Cheese Slice: $0.50\\n\\n### Calculating Total:\\n\\nBurgers & Combos Total:  \\n$3.60 + $8.15 + $4.10 + $8.65 + $5.90 + $10.45 + $2.30 = $43.15\\n\\nBeverages Total:  \\n$1.35 + $2.25 + $0.99 + (3 * $3.00) + $2.10 + $2.25 + $2.45 + $2.65 = $23.04\\n\\nExtras Total (assuming one of each):  \\n$1.30 + $0.50 = $1.80\\n\\n### Full Menu Total Before Tax:\\n$43.15 + $23.04 + $1.80 = $68.00\\n\\nThis is the total cost before tax. To find the total with tax, simply multiply this amount by 1.0725 (7.25% tax).\", type='output_text', logprobs=[])], role='assistant', status='completed', type='message')], usage=Usage(requests=1, input_tokens=413, input_tokens_details=InputTokensDetails(cached_tokens=0), output_tokens=393, output_tokens_details=OutputTokensDetails(reasoning_tokens=0), total_tokens=806), response_id='resp_685e56f58b7c81a0b9f190aeaaf0d3b405eb75adf809cfb6')], final_output=\"Here's a breakdown of the total cost for everything on the menu before tax:\\n\\n### Burgers & Combos\\n- Hamburger: $3.60\\n- Hamburger Combo: $8.15\\n- Cheeseburger: $4.10\\n- Cheeseburger Combo: $8.65\\n- Double Double®: $5.90\\n- Double Double® Combo: $10.45\\n- French Fries: $2.30\\n\\n### Beverages\\n- Coffee: $1.35\\n- Hot Cocoa: $2.25\\n- Milk: $0.99\\n- Shakes (Chocolate, Strawberry, Vanilla): $3.00 each\\n- Soda (Small): $2.10\\n- Soda (Medium): $2.25\\n- Soda (Large): $2.45\\n- Soda (X‑Large): $2.65\\n\\n### Extras\\n- Additional Burger Patty: $1.30\\n- Additional Cheese Slice: $0.50\\n\\n### Calculating Total:\\n\\nBurgers & Combos Total:  \\n$3.60 + $8.15 + $4.10 + $8.65 + $5.90 + $10.45 + $2.30 = $43.15\\n\\nBeverages Total:  \\n$1.35 + $2.25 + $0.99 + (3 * $3.00) + $2.10 + $2.25 + $2.45 + $2.65 = $23.04\\n\\nExtras Total (assuming one of each):  \\n$1.30 + $0.50 = $1.80\\n\\n### Full Menu Total Before Tax:\\n$43.15 + $23.04 + $1.80 = $68.00\\n\\nThis is the total cost before tax. To find the total with tax, simply multiply this amount by 1.0725 (7.25% tax).\", input_guardrail_results=[], output_guardrail_results=[], context_wrapper=RunContextWrapper(context=None, usage=Usage(requests=1, input_tokens=413, input_tokens_details=InputTokensDetails(cached_tokens=0), output_tokens=393, output_tokens_details=OutputTokensDetails(reasoning_tokens=0), total_tokens=806)), current_agent=Agent(name='In-N-Out Cashier Assistant', instructions='You are a helpful server at In-N-Out Burger respond to questions based on the menu below: \\n\\n\\n\\n# In‑N‑Out Burger Menu (2025)\\n\\n**Prices are approximate and subject to change.**\\n\\n## Burgers & Combos\\n\\n| Item                                    | Price  |\\n|-----------------------------------------|--------|\\n| Additional Burger Patty (per extra)     | $1.30  |\\n| Additional Cheese Slice (per extra)     | $0.50  |\\n| **Hamburger**                           | $3.60  |\\n| **Hamburger Combo**                     | $8.15  |\\n| **Cheeseburger**                        | $4.10  |\\n| **Cheeseburger Combo**                  | $8.65  |\\n| **Double Double®**                      | $5.90  |\\n| **Double Double® Combo**                | $10.45 |\\n| **French Fries**                        | $2.30  |\\n\\n## Beverages\\n\\n| Item                                        | Price  |\\n|---------------------------------------------|--------|\\n| **Coffee**                                  | $1.35  |\\n| **Hot Cocoa**                               | $2.25  |\\n| **Milk**                                    | $0.99  |\\n| **Shakes** (Chocolate, Strawberry, Vanilla) | $3.00  |\\n| **Soda (Small)**                            | $2.10  |\\n| **Soda (Medium)**                           | $2.25  |\\n| **Soda (Large)**                            | $2.45  |\\n| **Soda (X‑Large)**                          | $2.65  |\\n\\n## Not‑So‑Secret Menu Options\\n\\n- **Protein Style Burger:** Any burger wrapped in lettuce instead of a bun.\\n- **Animal Style:** Burger or fries served with a mustard‑cooked beef patty, extra spread, pickles, and grilled onions.\\n\\ntax not included\\n\\ntax is 7.25%\\n\\n---', prompt=None, handoff_description=None, handoffs=[], model='gpt-4o', model_settings=ModelSettings(temperature=None, top_p=None, frequency_penalty=None, presence_penalty=None, tool_choice=None, parallel_tool_calls=None, truncation=None, max_tokens=None, reasoning=None, metadata=None, store=None, include_usage=None, extra_query=None, extra_body=None, extra_headers=None, extra_args=None), tools=[], mcp_servers=[], mcp_config={}, input_guardrails=[], output_guardrails=[], output_type=None, hooks=None, tool_use_behavior='run_llm_again', reset_tool_choice=True), current_turn=1, max_turns=10, is_complete=True)"
            ]
          },
          "metadata": {},
          "execution_count": 18
        }
      ]
    },
    {
      "cell_type": "code",
      "source": [
        "import asyncio\n",
        "import random\n",
        "from agents import Agent, ItemHelpers, Runner, function_tool\n",
        "\n",
        "result = Runner.run_streamed(\n",
        "    agent,\n",
        "    input=\"How much is 32 Double Doubles each with french fries?.\",\n",
        ")\n",
        "print(\"=== Run starting ===\")\n",
        "\n",
        "async for event in result.stream_events():\n",
        "    # We'll ignore the raw responses event deltas\n",
        "    if event.type == \"raw_response_event\":\n",
        "        continue\n",
        "    # When the agent updates, print that\n",
        "    elif event.type == \"agent_updated_stream_event\":\n",
        "        print(f\"Agent updated: {event.new_agent.name}\")\n",
        "        continue\n",
        "    # When items are generated, print them\n",
        "    elif event.type == \"run_item_stream_event\":\n",
        "        if event.item.type == \"tool_call_item\":\n",
        "            print(\"-- Tool was called\")\n",
        "        elif event.item.type == \"tool_call_output_item\":\n",
        "            print(f\"-- Tool output: {event.item.output}\")\n",
        "        elif event.item.type == \"message_output_item\":\n",
        "            print(f\"-- Message output:\\n {ItemHelpers.text_message_output(event.item)}\")\n",
        "        else:\n",
        "            pass  # Ignore other event types\n",
        "\n",
        "print(\"=== Run complete ===\")"
      ],
      "metadata": {
        "colab": {
          "base_uri": "https://localhost:8080/"
        },
        "id": "P_G-BdaaPOD3",
        "outputId": "845364de-8919-4e5c-ceca-10fd48b014dc"
      },
      "execution_count": null,
      "outputs": [
        {
          "output_type": "stream",
          "name": "stdout",
          "text": [
            "=== Run starting ===\n",
            "Agent updated: In-N-Out Cashier Assistant\n",
            "-- Message output:\n",
            " The price for one Double Double is $5.90, and French Fries are $2.30. \n",
            "\n",
            "So, 32 Double Doubles would cost:\n",
            "32 x $5.90 = $188.80\n",
            "\n",
            "And 32 French Fries would cost:\n",
            "32 x $2.30 = $73.60\n",
            "\n",
            "The total cost before tax is:\n",
            "$188.80 + $73.60 = $262.40\n",
            "\n",
            "With tax (7.25%):\n",
            "$262.40 x 0.0725 = $19.03 (approx)\n",
            "\n",
            "The total cost including tax is:\n",
            "$262.40 + $19.03 = $281.43\n",
            "\n",
            "So, the total cost is approximately $281.43.\n",
            "=== Run complete ===\n"
          ]
        }
      ]
    },
    {
      "cell_type": "code",
      "source": [
        "from agents import Agent, Runner, function_tool\n",
        "\n",
        "@function_tool\n",
        "async def calculate_tax(order_total: float, tax_rate: float) -> str:\n",
        "    print(f\"[debug] calculating tax function called order:{order_total} tax:{tax_rate}\")\n",
        "    \"\"\"Calculates the tax for a given order total based on the input amount (float) and tax rate (float).\n",
        "    Args:\n",
        "        order_total: The total amount of the order before tax.\n",
        "        location: The location of the order. Defaults to Los Angeles, CA.\n",
        "    \"\"\"\n",
        "    tax_rate = 0.0725  # Default tax rate for Los Angeles, CA\n",
        "    tax_amount = order_total * tax_rate\n",
        "    total_with_tax = order_total + tax_amount\n",
        "    return f\"The tax on your order is ${tax_amount:.2f}. Your total with tax is ${total_with_tax:.2f}.\"\n"
      ],
      "metadata": {
        "id": "Cqsd4U6yPQl5"
      },
      "execution_count": null,
      "outputs": []
    },
    {
      "cell_type": "code",
      "source": [
        "agent = Agent(name=\"In-N-Out Cashier Assistant\",\n",
        "              instructions=f\"You are a helpful server at In-N-Out Burger respond to questions based on the menu below: \\n\\n{MENU_PRICES}\",\n",
        "              model=\"gpt-4o\",\n",
        "              tools=[calculate_tax]\n",
        "              )\n"
      ],
      "metadata": {
        "id": "oFpfCN7pPTgj"
      },
      "execution_count": null,
      "outputs": []
    },
    {
      "cell_type": "code",
      "source": [
        "result = await Runner.run(agent, \"How much is 5 Double Doubles each with french fries?.\")\n",
        "print(result.final_output)"
      ],
      "metadata": {
        "colab": {
          "base_uri": "https://localhost:8080/"
        },
        "id": "g33jzxoOPVV5",
        "outputId": "deafc986-840c-479f-d3bf-e3da61304421"
      },
      "execution_count": null,
      "outputs": [
        {
          "output_type": "stream",
          "name": "stdout",
          "text": [
            "[debug] calculating tax function called order:40.0 tax:7.25\n",
            "The cost for 5 Double Doubles each with French fries is $40.00. With tax, your total is $42.90.\n"
          ]
        }
      ]
    },
    {
      "cell_type": "code",
      "source": [
        "41.0 *1.0725"
      ],
      "metadata": {
        "colab": {
          "base_uri": "https://localhost:8080/"
        },
        "id": "VT-Z-TKsPXKX",
        "outputId": "642102c3-5d6c-4eeb-8894-e9c945d32075"
      },
      "execution_count": null,
      "outputs": [
        {
          "output_type": "execute_result",
          "data": {
            "text/plain": [
              "43.972500000000004"
            ]
          },
          "metadata": {},
          "execution_count": 23
        }
      ]
    },
    {
      "cell_type": "code",
      "source": [
        "for k, v in result.__dict__.items():\n",
        "  print(f\"{k}: {v}\")"
      ],
      "metadata": {
        "colab": {
          "base_uri": "https://localhost:8080/"
        },
        "id": "4WAhDhaXPZIf",
        "outputId": "e048239d-16a1-4e52-d95d-38f84aaebb78"
      },
      "execution_count": null,
      "outputs": [
        {
          "output_type": "stream",
          "name": "stdout",
          "text": [
            "input: How much is 5 Double Doubles each with french fries?.\n",
            "new_items: [ToolCallItem(agent=Agent(name='In-N-Out Cashier Assistant', instructions='You are a helpful server at In-N-Out Burger respond to questions based on the menu below: \\n\\n\\n\\n# In‑N‑Out Burger Menu (2025)\\n\\n**Prices are approximate and subject to change.**\\n\\n## Burgers & Combos\\n\\n| Item                                    | Price  |\\n|-----------------------------------------|--------|\\n| Additional Burger Patty (per extra)     | $1.30  |\\n| Additional Cheese Slice (per extra)     | $0.50  |\\n| **Hamburger**                           | $3.60  |\\n| **Hamburger Combo**                     | $8.15  |\\n| **Cheeseburger**                        | $4.10  |\\n| **Cheeseburger Combo**                  | $8.65  |\\n| **Double Double®**                      | $5.90  |\\n| **Double Double® Combo**                | $10.45 |\\n| **French Fries**                        | $2.30  |\\n\\n## Beverages\\n\\n| Item                                        | Price  |\\n|---------------------------------------------|--------|\\n| **Coffee**                                  | $1.35  |\\n| **Hot Cocoa**                               | $2.25  |\\n| **Milk**                                    | $0.99  |\\n| **Shakes** (Chocolate, Strawberry, Vanilla) | $3.00  |\\n| **Soda (Small)**                            | $2.10  |\\n| **Soda (Medium)**                           | $2.25  |\\n| **Soda (Large)**                            | $2.45  |\\n| **Soda (X‑Large)**                          | $2.65  |\\n\\n## Not‑So‑Secret Menu Options\\n\\n- **Protein Style Burger:** Any burger wrapped in lettuce instead of a bun.\\n- **Animal Style:** Burger or fries served with a mustard‑cooked beef patty, extra spread, pickles, and grilled onions.\\n\\ntax not included\\n\\ntax is 7.25%\\n\\n---', prompt=None, handoff_description=None, handoffs=[], model='gpt-4o', model_settings=ModelSettings(temperature=None, top_p=None, frequency_penalty=None, presence_penalty=None, tool_choice=None, parallel_tool_calls=None, truncation=None, max_tokens=None, reasoning=None, metadata=None, store=None, include_usage=None, extra_query=None, extra_body=None, extra_headers=None, extra_args=None), tools=[FunctionTool(name='calculate_tax', description='', params_json_schema={'properties': {'order_total': {'title': 'Order Total', 'type': 'number'}, 'tax_rate': {'title': 'Tax Rate', 'type': 'number'}}, 'required': ['order_total', 'tax_rate'], 'title': 'calculate_tax_args', 'type': 'object', 'additionalProperties': False}, on_invoke_tool=<function function_tool.<locals>._create_function_tool.<locals>._on_invoke_tool at 0x79c46398c040>, strict_json_schema=True, is_enabled=True)], mcp_servers=[], mcp_config={}, input_guardrails=[], output_guardrails=[], output_type=None, hooks=None, tool_use_behavior='run_llm_again', reset_tool_choice=True), raw_item=ResponseFunctionToolCall(arguments='{\"order_total\":40.0,\"tax_rate\":7.25}', call_id='call_fkVSbUo1eXRAmp8hrbV9mfTF', name='calculate_tax', type='function_call', id='fc_685e57a47180819d8d8c2f9c44645a730fb9e2cfb4dab7dc', status='completed'), type='tool_call_item'), ToolCallOutputItem(agent=Agent(name='In-N-Out Cashier Assistant', instructions='You are a helpful server at In-N-Out Burger respond to questions based on the menu below: \\n\\n\\n\\n# In‑N‑Out Burger Menu (2025)\\n\\n**Prices are approximate and subject to change.**\\n\\n## Burgers & Combos\\n\\n| Item                                    | Price  |\\n|-----------------------------------------|--------|\\n| Additional Burger Patty (per extra)     | $1.30  |\\n| Additional Cheese Slice (per extra)     | $0.50  |\\n| **Hamburger**                           | $3.60  |\\n| **Hamburger Combo**                     | $8.15  |\\n| **Cheeseburger**                        | $4.10  |\\n| **Cheeseburger Combo**                  | $8.65  |\\n| **Double Double®**                      | $5.90  |\\n| **Double Double® Combo**                | $10.45 |\\n| **French Fries**                        | $2.30  |\\n\\n## Beverages\\n\\n| Item                                        | Price  |\\n|---------------------------------------------|--------|\\n| **Coffee**                                  | $1.35  |\\n| **Hot Cocoa**                               | $2.25  |\\n| **Milk**                                    | $0.99  |\\n| **Shakes** (Chocolate, Strawberry, Vanilla) | $3.00  |\\n| **Soda (Small)**                            | $2.10  |\\n| **Soda (Medium)**                           | $2.25  |\\n| **Soda (Large)**                            | $2.45  |\\n| **Soda (X‑Large)**                          | $2.65  |\\n\\n## Not‑So‑Secret Menu Options\\n\\n- **Protein Style Burger:** Any burger wrapped in lettuce instead of a bun.\\n- **Animal Style:** Burger or fries served with a mustard‑cooked beef patty, extra spread, pickles, and grilled onions.\\n\\ntax not included\\n\\ntax is 7.25%\\n\\n---', prompt=None, handoff_description=None, handoffs=[], model='gpt-4o', model_settings=ModelSettings(temperature=None, top_p=None, frequency_penalty=None, presence_penalty=None, tool_choice=None, parallel_tool_calls=None, truncation=None, max_tokens=None, reasoning=None, metadata=None, store=None, include_usage=None, extra_query=None, extra_body=None, extra_headers=None, extra_args=None), tools=[FunctionTool(name='calculate_tax', description='', params_json_schema={'properties': {'order_total': {'title': 'Order Total', 'type': 'number'}, 'tax_rate': {'title': 'Tax Rate', 'type': 'number'}}, 'required': ['order_total', 'tax_rate'], 'title': 'calculate_tax_args', 'type': 'object', 'additionalProperties': False}, on_invoke_tool=<function function_tool.<locals>._create_function_tool.<locals>._on_invoke_tool at 0x79c46398c040>, strict_json_schema=True, is_enabled=True)], mcp_servers=[], mcp_config={}, input_guardrails=[], output_guardrails=[], output_type=None, hooks=None, tool_use_behavior='run_llm_again', reset_tool_choice=True), raw_item={'call_id': 'call_fkVSbUo1eXRAmp8hrbV9mfTF', 'output': 'The tax on your order is $2.90. Your total with tax is $42.90.', 'type': 'function_call_output'}, output='The tax on your order is $2.90. Your total with tax is $42.90.', type='tool_call_output_item'), MessageOutputItem(agent=Agent(name='In-N-Out Cashier Assistant', instructions='You are a helpful server at In-N-Out Burger respond to questions based on the menu below: \\n\\n\\n\\n# In‑N‑Out Burger Menu (2025)\\n\\n**Prices are approximate and subject to change.**\\n\\n## Burgers & Combos\\n\\n| Item                                    | Price  |\\n|-----------------------------------------|--------|\\n| Additional Burger Patty (per extra)     | $1.30  |\\n| Additional Cheese Slice (per extra)     | $0.50  |\\n| **Hamburger**                           | $3.60  |\\n| **Hamburger Combo**                     | $8.15  |\\n| **Cheeseburger**                        | $4.10  |\\n| **Cheeseburger Combo**                  | $8.65  |\\n| **Double Double®**                      | $5.90  |\\n| **Double Double® Combo**                | $10.45 |\\n| **French Fries**                        | $2.30  |\\n\\n## Beverages\\n\\n| Item                                        | Price  |\\n|---------------------------------------------|--------|\\n| **Coffee**                                  | $1.35  |\\n| **Hot Cocoa**                               | $2.25  |\\n| **Milk**                                    | $0.99  |\\n| **Shakes** (Chocolate, Strawberry, Vanilla) | $3.00  |\\n| **Soda (Small)**                            | $2.10  |\\n| **Soda (Medium)**                           | $2.25  |\\n| **Soda (Large)**                            | $2.45  |\\n| **Soda (X‑Large)**                          | $2.65  |\\n\\n## Not‑So‑Secret Menu Options\\n\\n- **Protein Style Burger:** Any burger wrapped in lettuce instead of a bun.\\n- **Animal Style:** Burger or fries served with a mustard‑cooked beef patty, extra spread, pickles, and grilled onions.\\n\\ntax not included\\n\\ntax is 7.25%\\n\\n---', prompt=None, handoff_description=None, handoffs=[], model='gpt-4o', model_settings=ModelSettings(temperature=None, top_p=None, frequency_penalty=None, presence_penalty=None, tool_choice=None, parallel_tool_calls=None, truncation=None, max_tokens=None, reasoning=None, metadata=None, store=None, include_usage=None, extra_query=None, extra_body=None, extra_headers=None, extra_args=None), tools=[FunctionTool(name='calculate_tax', description='', params_json_schema={'properties': {'order_total': {'title': 'Order Total', 'type': 'number'}, 'tax_rate': {'title': 'Tax Rate', 'type': 'number'}}, 'required': ['order_total', 'tax_rate'], 'title': 'calculate_tax_args', 'type': 'object', 'additionalProperties': False}, on_invoke_tool=<function function_tool.<locals>._create_function_tool.<locals>._on_invoke_tool at 0x79c46398c040>, strict_json_schema=True, is_enabled=True)], mcp_servers=[], mcp_config={}, input_guardrails=[], output_guardrails=[], output_type=None, hooks=None, tool_use_behavior='run_llm_again', reset_tool_choice=True), raw_item=ResponseOutputMessage(id='msg_685e57a5745c819d8495acff08be4b1f0fb9e2cfb4dab7dc', content=[ResponseOutputText(annotations=[], text='The cost for 5 Double Doubles each with French fries is $40.00. With tax, your total is $42.90.', type='output_text', logprobs=[])], role='assistant', status='completed', type='message'), type='message_output_item')]\n",
            "raw_responses: [ModelResponse(output=[ResponseFunctionToolCall(arguments='{\"order_total\":40.0,\"tax_rate\":7.25}', call_id='call_fkVSbUo1eXRAmp8hrbV9mfTF', name='calculate_tax', type='function_call', id='fc_685e57a47180819d8d8c2f9c44645a730fb9e2cfb4dab7dc', status='completed')], usage=Usage(requests=1, input_tokens=460, input_tokens_details=InputTokensDetails(cached_tokens=0), output_tokens=25, output_tokens_details=OutputTokensDetails(reasoning_tokens=0), total_tokens=485), response_id='resp_685e57a3c304819dbe8ae2a4e19aa17e0fb9e2cfb4dab7dc'), ModelResponse(output=[ResponseOutputMessage(id='msg_685e57a5745c819d8495acff08be4b1f0fb9e2cfb4dab7dc', content=[ResponseOutputText(annotations=[], text='The cost for 5 Double Doubles each with French fries is $40.00. With tax, your total is $42.90.', type='output_text', logprobs=[])], role='assistant', status='completed', type='message')], usage=Usage(requests=1, input_tokens=514, input_tokens_details=InputTokensDetails(cached_tokens=0), output_tokens=31, output_tokens_details=OutputTokensDetails(reasoning_tokens=0), total_tokens=545), response_id='resp_685e57a4ed74819d8fd67208558633410fb9e2cfb4dab7dc')]\n",
            "final_output: The cost for 5 Double Doubles each with French fries is $40.00. With tax, your total is $42.90.\n",
            "input_guardrail_results: []\n",
            "output_guardrail_results: []\n",
            "context_wrapper: RunContextWrapper(context=None, usage=Usage(requests=2, input_tokens=974, input_tokens_details=InputTokensDetails(cached_tokens=0), output_tokens=56, output_tokens_details=OutputTokensDetails(reasoning_tokens=0), total_tokens=1030))\n",
            "_last_agent: Agent(name='In-N-Out Cashier Assistant', instructions='You are a helpful server at In-N-Out Burger respond to questions based on the menu below: \\n\\n\\n\\n# In‑N‑Out Burger Menu (2025)\\n\\n**Prices are approximate and subject to change.**\\n\\n## Burgers & Combos\\n\\n| Item                                    | Price  |\\n|-----------------------------------------|--------|\\n| Additional Burger Patty (per extra)     | $1.30  |\\n| Additional Cheese Slice (per extra)     | $0.50  |\\n| **Hamburger**                           | $3.60  |\\n| **Hamburger Combo**                     | $8.15  |\\n| **Cheeseburger**                        | $4.10  |\\n| **Cheeseburger Combo**                  | $8.65  |\\n| **Double Double®**                      | $5.90  |\\n| **Double Double® Combo**                | $10.45 |\\n| **French Fries**                        | $2.30  |\\n\\n## Beverages\\n\\n| Item                                        | Price  |\\n|---------------------------------------------|--------|\\n| **Coffee**                                  | $1.35  |\\n| **Hot Cocoa**                               | $2.25  |\\n| **Milk**                                    | $0.99  |\\n| **Shakes** (Chocolate, Strawberry, Vanilla) | $3.00  |\\n| **Soda (Small)**                            | $2.10  |\\n| **Soda (Medium)**                           | $2.25  |\\n| **Soda (Large)**                            | $2.45  |\\n| **Soda (X‑Large)**                          | $2.65  |\\n\\n## Not‑So‑Secret Menu Options\\n\\n- **Protein Style Burger:** Any burger wrapped in lettuce instead of a bun.\\n- **Animal Style:** Burger or fries served with a mustard‑cooked beef patty, extra spread, pickles, and grilled onions.\\n\\ntax not included\\n\\ntax is 7.25%\\n\\n---', prompt=None, handoff_description=None, handoffs=[], model='gpt-4o', model_settings=ModelSettings(temperature=None, top_p=None, frequency_penalty=None, presence_penalty=None, tool_choice=None, parallel_tool_calls=None, truncation=None, max_tokens=None, reasoning=None, metadata=None, store=None, include_usage=None, extra_query=None, extra_body=None, extra_headers=None, extra_args=None), tools=[FunctionTool(name='calculate_tax', description='', params_json_schema={'properties': {'order_total': {'title': 'Order Total', 'type': 'number'}, 'tax_rate': {'title': 'Tax Rate', 'type': 'number'}}, 'required': ['order_total', 'tax_rate'], 'title': 'calculate_tax_args', 'type': 'object', 'additionalProperties': False}, on_invoke_tool=<function function_tool.<locals>._create_function_tool.<locals>._on_invoke_tool at 0x79c46398c040>, strict_json_schema=True, is_enabled=True)], mcp_servers=[], mcp_config={}, input_guardrails=[], output_guardrails=[], output_type=None, hooks=None, tool_use_behavior='run_llm_again', reset_tool_choice=True)\n"
          ]
        }
      ]
    },
    {
      "cell_type": "code",
      "source": [
        "import json\n",
        "\n",
        "def extract_function_calls(run_result):\n",
        "    \"\"\"\n",
        "    Extracts function call items (both the call details and outputs)\n",
        "    from the run_result object.\n",
        "    \"\"\"\n",
        "    function_calls = {}\n",
        "    # Use attribute access instead of dict.get()\n",
        "    new_items = run_result.new_items if hasattr(run_result, 'new_items') else []\n",
        "\n",
        "    for item in new_items:\n",
        "        # Assuming each item has an attribute 'raw_item'\n",
        "        raw_item = item.raw_item if hasattr(item, 'raw_item') else {}\n",
        "\n",
        "        # Try to get the type from raw_item. It might be a dict or an object.\n",
        "        if isinstance(raw_item, dict):\n",
        "            item_type = raw_item.get(\"type\")\n",
        "            call_id = raw_item.get(\"call_id\")\n",
        "        else:\n",
        "            item_type = getattr(raw_item, \"type\", None)\n",
        "            call_id = getattr(raw_item, \"call_id\", None)\n",
        "\n",
        "        # Check if the item is a function call or its output\n",
        "        if item_type in [\"function_call\", \"function_call_output\"]:\n",
        "            if call_id not in function_calls:\n",
        "                function_calls[call_id] = {}\n",
        "            if item_type == \"function_call\":\n",
        "                # Get arguments as a JSON string and parse it\n",
        "                if isinstance(raw_item, dict):\n",
        "                    args = raw_item.get(\"arguments\")\n",
        "                    function_calls[call_id][\"name\"] = raw_item.get(\"name\")\n",
        "                else:\n",
        "                    args = getattr(raw_item, \"arguments\", None)\n",
        "                    function_calls[call_id][\"name\"] = getattr(raw_item, \"name\", None)\n",
        "                try:\n",
        "                    function_calls[call_id][\"arguments\"] = json.loads(args)\n",
        "                except Exception:\n",
        "                    function_calls[call_id][\"arguments\"] = args\n",
        "            elif item_type == \"function_call_output\":\n",
        "                if isinstance(raw_item, dict):\n",
        "                    function_calls[call_id][\"output\"] = raw_item.get(\"output\")\n",
        "                else:\n",
        "                    function_calls[call_id][\"output\"] = getattr(raw_item, \"output\", None)\n",
        "    return function_calls\n",
        "\n",
        "# Assuming `result` is your RunResult object:\n",
        "calls = extract_function_calls(result)\n",
        "\n",
        "# Print the extracted details\n",
        "for call_id, details in calls.items():\n",
        "    print(f\"Call ID: {call_id}\")\n",
        "    print(f\"Function Name: {details.get('name', 'N/A')}\")\n",
        "    print(\"Arguments:\")\n",
        "    for arg, value in details.get(\"arguments\", {}).items():\n",
        "        print(f\"  {arg}: {value}\")\n",
        "    print(\"Output:\")\n",
        "    print(f\"  {details.get('output', 'No output')}\")\n",
        "    print(\"-\" * 40)\n"
      ],
      "metadata": {
        "colab": {
          "base_uri": "https://localhost:8080/"
        },
        "id": "ABcVpYsCPb8q",
        "outputId": "e23e9b09-fcd8-497c-e206-6a4a4062e0d1"
      },
      "execution_count": null,
      "outputs": [
        {
          "output_type": "stream",
          "name": "stdout",
          "text": [
            "Call ID: call_fkVSbUo1eXRAmp8hrbV9mfTF\n",
            "Function Name: calculate_tax\n",
            "Arguments:\n",
            "  order_total: 40.0\n",
            "  tax_rate: 7.25\n",
            "Output:\n",
            "  The tax on your order is $2.90. Your total with tax is $42.90.\n",
            "----------------------------------------\n"
          ]
        }
      ]
    },
    {
      "cell_type": "code",
      "source": [
        "### Websearch Tool\n",
        "from agents import Agent, FileSearchTool, Runner, WebSearchTool"
      ],
      "metadata": {
        "id": "Ua26tiyvPdv-"
      },
      "execution_count": null,
      "outputs": []
    },
    {
      "cell_type": "code",
      "source": [
        "mcdonalds_agent = Agent(name=\"McDonalds Assistant\",\n",
        "              instructions=f\"You are a helpful server at McDonalds, respond to questions by using the search tool\",\n",
        "              model=\"gpt-4o\",\n",
        "              tools=[WebSearchTool()]\n",
        "              )"
      ],
      "metadata": {
        "id": "849jTHVmPizX"
      },
      "execution_count": null,
      "outputs": []
    },
    {
      "cell_type": "code",
      "source": [
        "result = await Runner.run(mcdonalds_agent, \"How much is BigMac?.\")\n",
        "\n",
        "print(result.final_output)"
      ],
      "metadata": {
        "colab": {
          "base_uri": "https://localhost:8080/"
        },
        "id": "1aDSeOFwPkij",
        "outputId": "ab256a6c-cc0e-46f6-9d8a-3cf8c04fac6e"
      },
      "execution_count": null,
      "outputs": [
        {
          "output_type": "stream",
          "name": "stdout",
          "text": [
            "The price of a Big Mac at McDonald's varies across the United States, influenced by factors such as location, local operating costs, and franchise pricing decisions. As of April 2025, the average price of a Big Mac in the U.S. was approximately $5.29, reflecting a 20.5% increase from $4.39 in 2019. ([usnews.com](https://www.usnews.com/news/business/articles/2024-05-29/mcdonalds-says-18-big-mac-meal-was-an-exception-and-news-reports-overstated-its-price-increases?utm_source=openai))\n",
            "\n",
            "Here are some examples of Big Mac prices in different states:\n",
            "\n",
            "- **California**: $5.11\n",
            "- **New York**: $5.23\n",
            "- **Texas**: $4.39\n",
            "- **Florida**: $4.47\n",
            "- **Illinois**: $4.55\n",
            "- **Mississippi**: $3.91\n",
            "\n",
            "Please note that these prices are subject to change and may vary by specific location within each state. For the most accurate and current pricing, it's recommended to check with your local McDonald's restaurant. \n"
          ]
        }
      ]
    },
    {
      "cell_type": "code",
      "source": [
        "result.new_items[1].raw_item.content[0].annotations"
      ],
      "metadata": {
        "colab": {
          "base_uri": "https://localhost:8080/"
        },
        "id": "o-U1RLMVPmuo",
        "outputId": "f43205d9-a86a-4bbb-a0f3-d650b3964ea2"
      },
      "execution_count": null,
      "outputs": [
        {
          "output_type": "execute_result",
          "data": {
            "text/plain": [
              "[AnnotationURLCitation(end_index=486, start_index=300, title=\"McDonald's Says $18 Big Mac Meal Was an 'Exception' and News Reports Overstated Its Price Increases\", type='url_citation', url='https://www.usnews.com/news/business/articles/2024-05-29/mcdonalds-says-18-big-mac-meal-was-an-exception-and-news-reports-overstated-its-price-increases?utm_source=openai')]"
            ]
          },
          "metadata": {},
          "execution_count": 29
        }
      ]
    },
    {
      "cell_type": "code",
      "source": [
        "### Agents as tools\n",
        "from agents import Agent, Runner\n",
        "import asyncio\n",
        "\n",
        "\n",
        "\n",
        "orchestrator_agent = Agent(\n",
        "    name=\"orchestrator_agent\",\n",
        "    instructions=(\n",
        "        \"You are a DoorDash Agent who decides which tools or assistants to call \"\n",
        "        \"If asked for prices or menu items, you call the relevant tools.\"\n",
        "        \"if asked for info from. more than one source run multiple tools\"\n",
        "    ),\n",
        "    tools=[\n",
        "        agent.as_tool(\n",
        "            tool_name=\"in_n_out_burger_assistant\",\n",
        "            tool_description=\"Get prices with tax for In-N-Out Burger\",\n",
        "        ),\n",
        "        mcdonalds_agent.as_tool(\n",
        "            tool_name=\"mcdonalds_assistant\",\n",
        "            tool_description=\"Get prices for McDonalds\",\n",
        "        ),\n",
        "    ],\n",
        ")\n"
      ],
      "metadata": {
        "id": "6uu8zC9pPoVS"
      },
      "execution_count": null,
      "outputs": []
    },
    {
      "cell_type": "code",
      "source": [
        "result = await Runner.run(orchestrator_agent, input=\"How much is a Double Double at in-N-out?\")\n",
        "print(result.final_output)"
      ],
      "metadata": {
        "colab": {
          "base_uri": "https://localhost:8080/"
        },
        "id": "ZUZFvxEdPsCG",
        "outputId": "8bbd6475-5d8c-45bb-cbd7-08a2af1dcc9f"
      },
      "execution_count": null,
      "outputs": [
        {
          "output_type": "stream",
          "name": "stdout",
          "text": [
            "The Double Double burger at In-N-Out is $5.90. If you're interested in the combo, it's $10.45.\n"
          ]
        }
      ]
    },
    {
      "cell_type": "code",
      "source": [
        "result = await Runner.run(orchestrator_agent, input=\"what does McDonalds have for breakfast?\")\n",
        "print(result.final_output)"
      ],
      "metadata": {
        "colab": {
          "base_uri": "https://localhost:8080/"
        },
        "id": "2Pj5qDBTPuDp",
        "outputId": "de10bb9b-cb4d-40c7-8494-c297f5b75afe"
      },
      "execution_count": null,
      "outputs": [
        {
          "output_type": "stream",
          "name": "stdout",
          "text": [
            "McDonald's offers a variety of breakfast items. Here's a selection:\n",
            "\n",
            "- **Egg McMuffin®**: Freshly cracked egg, Canadian bacon, and American cheese on an English muffin.\n",
            "\n",
            "- **Sausage McMuffin® with Egg**: Savory sausage patty, a freshly cracked egg, and American cheese on an English muffin.\n",
            "\n",
            "- **Bacon, Egg & Cheese Biscuit**: Warm biscuit filled with bacon, scrambled eggs, and cheese.\n",
            "\n",
            "- **Hotcakes and Sausage**: Golden brown hotcakes with a sausage patty, butter, and syrup.\n",
            "\n",
            "- **Sausage Burrito**: Flour tortilla with scrambled eggs, sausage, American cheese, and onions and peppers.\n",
            "\n",
            "Availability may vary by location.\n"
          ]
        }
      ]
    },
    {
      "cell_type": "code",
      "source": [
        "result = await Runner.run(orchestrator_agent, input=\"Is a BigMac or a DoubleDouble AnimalStyle cheaper?\")\n",
        "print(result.final_output)"
      ],
      "metadata": {
        "colab": {
          "base_uri": "https://localhost:8080/"
        },
        "id": "PCSgFw-mPv2T",
        "outputId": "73f65be8-0757-4df9-ea28-2886a27c1df6"
      },
      "execution_count": null,
      "outputs": [
        {
          "output_type": "stream",
          "name": "stdout",
          "text": [
            "Here's a comparison of the prices:\n",
            "\n",
            "- **Big Mac**: Average $5.29 (prices may vary based on location)\n",
            "- **Double-Double Animal Style**: $5.90\n",
            "\n",
            "Based on these average prices, the Big Mac is generally cheaper than the Double-Double Animal Style.\n"
          ]
        }
      ]
    },
    {
      "cell_type": "code",
      "source": [
        "result"
      ],
      "metadata": {
        "colab": {
          "base_uri": "https://localhost:8080/"
        },
        "id": "QDTNKaGEPyWR",
        "outputId": "69ba6006-78b8-4b9c-92b3-6c7bd5e59a16"
      },
      "execution_count": null,
      "outputs": [
        {
          "output_type": "execute_result",
          "data": {
            "text/plain": [
              "RunResult(input='Is a BigMac or a DoubleDouble AnimalStyle cheaper?', new_items=[ToolCallItem(agent=Agent(name='orchestrator_agent', instructions='You are a DoorDash Agent who decides which tools or assistants to call If asked for prices or menu items, you call the relevant tools.if asked for info from. more than one source run multiple tools', prompt=None, handoff_description=None, handoffs=[], model=None, model_settings=ModelSettings(temperature=None, top_p=None, frequency_penalty=None, presence_penalty=None, tool_choice=None, parallel_tool_calls=None, truncation=None, max_tokens=None, reasoning=None, metadata=None, store=None, include_usage=None, extra_query=None, extra_body=None, extra_headers=None, extra_args=None), tools=[FunctionTool(name='in_n_out_burger_assistant', description='Get prices with tax for In-N-Out Burger', params_json_schema={'properties': {'input': {'title': 'Input', 'type': 'string'}}, 'required': ['input'], 'title': 'in_n_out_burger_assistant_args', 'type': 'object', 'additionalProperties': False}, on_invoke_tool=<function function_tool.<locals>._create_function_tool.<locals>._on_invoke_tool at 0x79c46398c4a0>, strict_json_schema=True, is_enabled=True), FunctionTool(name='mcdonalds_assistant', description='Get prices for McDonalds', params_json_schema={'properties': {'input': {'title': 'Input', 'type': 'string'}}, 'required': ['input'], 'title': 'mcdonalds_assistant_args', 'type': 'object', 'additionalProperties': False}, on_invoke_tool=<function function_tool.<locals>._create_function_tool.<locals>._on_invoke_tool at 0x79c46398c0e0>, strict_json_schema=True, is_enabled=True)], mcp_servers=[], mcp_config={}, input_guardrails=[], output_guardrails=[], output_type=None, hooks=None, tool_use_behavior='run_llm_again', reset_tool_choice=True), raw_item=ResponseFunctionToolCall(arguments='{\"input\":\"Big Mac price\"}', call_id='call_NVmNL7nSBP48zZdIH37C8p4k', name='mcdonalds_assistant', type='function_call', id='fc_685e57c6633c81a098e4256738fabf2904335ccb5bfdffa7', status='completed'), type='tool_call_item'), ToolCallItem(agent=Agent(name='orchestrator_agent', instructions='You are a DoorDash Agent who decides which tools or assistants to call If asked for prices or menu items, you call the relevant tools.if asked for info from. more than one source run multiple tools', prompt=None, handoff_description=None, handoffs=[], model=None, model_settings=ModelSettings(temperature=None, top_p=None, frequency_penalty=None, presence_penalty=None, tool_choice=None, parallel_tool_calls=None, truncation=None, max_tokens=None, reasoning=None, metadata=None, store=None, include_usage=None, extra_query=None, extra_body=None, extra_headers=None, extra_args=None), tools=[FunctionTool(name='in_n_out_burger_assistant', description='Get prices with tax for In-N-Out Burger', params_json_schema={'properties': {'input': {'title': 'Input', 'type': 'string'}}, 'required': ['input'], 'title': 'in_n_out_burger_assistant_args', 'type': 'object', 'additionalProperties': False}, on_invoke_tool=<function function_tool.<locals>._create_function_tool.<locals>._on_invoke_tool at 0x79c46398c4a0>, strict_json_schema=True, is_enabled=True), FunctionTool(name='mcdonalds_assistant', description='Get prices for McDonalds', params_json_schema={'properties': {'input': {'title': 'Input', 'type': 'string'}}, 'required': ['input'], 'title': 'mcdonalds_assistant_args', 'type': 'object', 'additionalProperties': False}, on_invoke_tool=<function function_tool.<locals>._create_function_tool.<locals>._on_invoke_tool at 0x79c46398c0e0>, strict_json_schema=True, is_enabled=True)], mcp_servers=[], mcp_config={}, input_guardrails=[], output_guardrails=[], output_type=None, hooks=None, tool_use_behavior='run_llm_again', reset_tool_choice=True), raw_item=ResponseFunctionToolCall(arguments='{\"input\":\"Double-Double Animal Style price\"}', call_id='call_ESbEeYBwMzGszC0qeoI2yhyK', name='in_n_out_burger_assistant', type='function_call', id='fc_685e57c7febc81a0aafffc6e3d6ca38804335ccb5bfdffa7', status='completed'), type='tool_call_item'), ToolCallOutputItem(agent=Agent(name='orchestrator_agent', instructions='You are a DoorDash Agent who decides which tools or assistants to call If asked for prices or menu items, you call the relevant tools.if asked for info from. more than one source run multiple tools', prompt=None, handoff_description=None, handoffs=[], model=None, model_settings=ModelSettings(temperature=None, top_p=None, frequency_penalty=None, presence_penalty=None, tool_choice=None, parallel_tool_calls=None, truncation=None, max_tokens=None, reasoning=None, metadata=None, store=None, include_usage=None, extra_query=None, extra_body=None, extra_headers=None, extra_args=None), tools=[FunctionTool(name='in_n_out_burger_assistant', description='Get prices with tax for In-N-Out Burger', params_json_schema={'properties': {'input': {'title': 'Input', 'type': 'string'}}, 'required': ['input'], 'title': 'in_n_out_burger_assistant_args', 'type': 'object', 'additionalProperties': False}, on_invoke_tool=<function function_tool.<locals>._create_function_tool.<locals>._on_invoke_tool at 0x79c46398c4a0>, strict_json_schema=True, is_enabled=True), FunctionTool(name='mcdonalds_assistant', description='Get prices for McDonalds', params_json_schema={'properties': {'input': {'title': 'Input', 'type': 'string'}}, 'required': ['input'], 'title': 'mcdonalds_assistant_args', 'type': 'object', 'additionalProperties': False}, on_invoke_tool=<function function_tool.<locals>._create_function_tool.<locals>._on_invoke_tool at 0x79c46398c0e0>, strict_json_schema=True, is_enabled=True)], mcp_servers=[], mcp_config={}, input_guardrails=[], output_guardrails=[], output_type=None, hooks=None, tool_use_behavior='run_llm_again', reset_tool_choice=True), raw_item={'call_id': 'call_NVmNL7nSBP48zZdIH37C8p4k', 'output': \"The price of a Big Mac in the United States varies by location due to factors such as regional operating costs and local economic conditions. As of 2025, the average price of a Big Mac is approximately $5.29. ([usnews.com](https://www.usnews.com/news/business/articles/2024-05-29/mcdonalds-says-18-big-mac-meal-was-an-exception-and-news-reports-overstated-its-price-increases?utm_source=openai))\\n\\nHowever, prices can differ significantly between states. For example:\\n\\n- **Hawaii**: $5.31\\n- **New York**: $5.23\\n- **California**: $5.11\\n- **Mississippi**: $3.91\\n- **Missouri**: $3.99\\n\\n([gobankingrates.com](https://www.gobankingrates.com/saving-money/food/how-much-mcdonalds-big-mac-costs-in-every-state/?utm_source=openai))\\n\\nPlease note that these prices are subject to change and may vary based on the specific McDonald's location. \", 'type': 'function_call_output'}, output=\"The price of a Big Mac in the United States varies by location due to factors such as regional operating costs and local economic conditions. As of 2025, the average price of a Big Mac is approximately $5.29. ([usnews.com](https://www.usnews.com/news/business/articles/2024-05-29/mcdonalds-says-18-big-mac-meal-was-an-exception-and-news-reports-overstated-its-price-increases?utm_source=openai))\\n\\nHowever, prices can differ significantly between states. For example:\\n\\n- **Hawaii**: $5.31\\n- **New York**: $5.23\\n- **California**: $5.11\\n- **Mississippi**: $3.91\\n- **Missouri**: $3.99\\n\\n([gobankingrates.com](https://www.gobankingrates.com/saving-money/food/how-much-mcdonalds-big-mac-costs-in-every-state/?utm_source=openai))\\n\\nPlease note that these prices are subject to change and may vary based on the specific McDonald's location. \", type='tool_call_output_item'), ToolCallOutputItem(agent=Agent(name='orchestrator_agent', instructions='You are a DoorDash Agent who decides which tools or assistants to call If asked for prices or menu items, you call the relevant tools.if asked for info from. more than one source run multiple tools', prompt=None, handoff_description=None, handoffs=[], model=None, model_settings=ModelSettings(temperature=None, top_p=None, frequency_penalty=None, presence_penalty=None, tool_choice=None, parallel_tool_calls=None, truncation=None, max_tokens=None, reasoning=None, metadata=None, store=None, include_usage=None, extra_query=None, extra_body=None, extra_headers=None, extra_args=None), tools=[FunctionTool(name='in_n_out_burger_assistant', description='Get prices with tax for In-N-Out Burger', params_json_schema={'properties': {'input': {'title': 'Input', 'type': 'string'}}, 'required': ['input'], 'title': 'in_n_out_burger_assistant_args', 'type': 'object', 'additionalProperties': False}, on_invoke_tool=<function function_tool.<locals>._create_function_tool.<locals>._on_invoke_tool at 0x79c46398c4a0>, strict_json_schema=True, is_enabled=True), FunctionTool(name='mcdonalds_assistant', description='Get prices for McDonalds', params_json_schema={'properties': {'input': {'title': 'Input', 'type': 'string'}}, 'required': ['input'], 'title': 'mcdonalds_assistant_args', 'type': 'object', 'additionalProperties': False}, on_invoke_tool=<function function_tool.<locals>._create_function_tool.<locals>._on_invoke_tool at 0x79c46398c0e0>, strict_json_schema=True, is_enabled=True)], mcp_servers=[], mcp_config={}, input_guardrails=[], output_guardrails=[], output_type=None, hooks=None, tool_use_behavior='run_llm_again', reset_tool_choice=True), raw_item={'call_id': 'call_ESbEeYBwMzGszC0qeoI2yhyK', 'output': \"The price for a **Double-Double®** is $5.90. Making it Animal Style doesn't change the price, so it remains $5.90. \\n\\nPlus tax, the total cost including 7.25% tax would be calculated if needed.\", 'type': 'function_call_output'}, output=\"The price for a **Double-Double®** is $5.90. Making it Animal Style doesn't change the price, so it remains $5.90. \\n\\nPlus tax, the total cost including 7.25% tax would be calculated if needed.\", type='tool_call_output_item'), MessageOutputItem(agent=Agent(name='orchestrator_agent', instructions='You are a DoorDash Agent who decides which tools or assistants to call If asked for prices or menu items, you call the relevant tools.if asked for info from. more than one source run multiple tools', prompt=None, handoff_description=None, handoffs=[], model=None, model_settings=ModelSettings(temperature=None, top_p=None, frequency_penalty=None, presence_penalty=None, tool_choice=None, parallel_tool_calls=None, truncation=None, max_tokens=None, reasoning=None, metadata=None, store=None, include_usage=None, extra_query=None, extra_body=None, extra_headers=None, extra_args=None), tools=[FunctionTool(name='in_n_out_burger_assistant', description='Get prices with tax for In-N-Out Burger', params_json_schema={'properties': {'input': {'title': 'Input', 'type': 'string'}}, 'required': ['input'], 'title': 'in_n_out_burger_assistant_args', 'type': 'object', 'additionalProperties': False}, on_invoke_tool=<function function_tool.<locals>._create_function_tool.<locals>._on_invoke_tool at 0x79c46398c4a0>, strict_json_schema=True, is_enabled=True), FunctionTool(name='mcdonalds_assistant', description='Get prices for McDonalds', params_json_schema={'properties': {'input': {'title': 'Input', 'type': 'string'}}, 'required': ['input'], 'title': 'mcdonalds_assistant_args', 'type': 'object', 'additionalProperties': False}, on_invoke_tool=<function function_tool.<locals>._create_function_tool.<locals>._on_invoke_tool at 0x79c46398c0e0>, strict_json_schema=True, is_enabled=True)], mcp_servers=[], mcp_config={}, input_guardrails=[], output_guardrails=[], output_type=None, hooks=None, tool_use_behavior='run_llm_again', reset_tool_choice=True), raw_item=ResponseOutputMessage(id='msg_685e57d0ba1c81a0992d6f87b4d4fe3e04335ccb5bfdffa7', content=[ResponseOutputText(annotations=[], text=\"Here's a comparison of the prices:\\n\\n- **Big Mac**: Average $5.29 (prices may vary based on location)\\n- **Double-Double Animal Style**: $5.90\\n\\nBased on these average prices, the Big Mac is generally cheaper than the Double-Double Animal Style.\", type='output_text', logprobs=[])], role='assistant', status='completed', type='message'), type='message_output_item')], raw_responses=[ModelResponse(output=[ResponseFunctionToolCall(arguments='{\"input\":\"Big Mac price\"}', call_id='call_NVmNL7nSBP48zZdIH37C8p4k', name='mcdonalds_assistant', type='function_call', id='fc_685e57c6633c81a098e4256738fabf2904335ccb5bfdffa7', status='completed'), ResponseFunctionToolCall(arguments='{\"input\":\"Double-Double Animal Style price\"}', call_id='call_ESbEeYBwMzGszC0qeoI2yhyK', name='in_n_out_burger_assistant', type='function_call', id='fc_685e57c7febc81a0aafffc6e3d6ca38804335ccb5bfdffa7', status='completed')], usage=Usage(requests=1, input_tokens=152, input_tokens_details=InputTokensDetails(cached_tokens=0), output_tokens=62, output_tokens_details=OutputTokensDetails(reasoning_tokens=0), total_tokens=214), response_id='resp_685e57c27ef481a0831957e968f7e54404335ccb5bfdffa7'), ModelResponse(output=[ResponseOutputMessage(id='msg_685e57d0ba1c81a0992d6f87b4d4fe3e04335ccb5bfdffa7', content=[ResponseOutputText(annotations=[], text=\"Here's a comparison of the prices:\\n\\n- **Big Mac**: Average $5.29 (prices may vary based on location)\\n- **Double-Double Animal Style**: $5.90\\n\\nBased on these average prices, the Big Mac is generally cheaper than the Double-Double Animal Style.\", type='output_text', logprobs=[])], role='assistant', status='completed', type='message')], usage=Usage(requests=1, input_tokens=506, input_tokens_details=InputTokensDetails(cached_tokens=0), output_tokens=62, output_tokens_details=OutputTokensDetails(reasoning_tokens=0), total_tokens=568), response_id='resp_685e57cf48c481a0a0e12501f8f5a9d304335ccb5bfdffa7')], final_output=\"Here's a comparison of the prices:\\n\\n- **Big Mac**: Average $5.29 (prices may vary based on location)\\n- **Double-Double Animal Style**: $5.90\\n\\nBased on these average prices, the Big Mac is generally cheaper than the Double-Double Animal Style.\", input_guardrail_results=[], output_guardrail_results=[], context_wrapper=RunContextWrapper(context=None, usage=Usage(requests=2, input_tokens=658, input_tokens_details=InputTokensDetails(cached_tokens=0), output_tokens=124, output_tokens_details=OutputTokensDetails(reasoning_tokens=0), total_tokens=782)), _last_agent=Agent(name='orchestrator_agent', instructions='You are a DoorDash Agent who decides which tools or assistants to call If asked for prices or menu items, you call the relevant tools.if asked for info from. more than one source run multiple tools', prompt=None, handoff_description=None, handoffs=[], model=None, model_settings=ModelSettings(temperature=None, top_p=None, frequency_penalty=None, presence_penalty=None, tool_choice=None, parallel_tool_calls=None, truncation=None, max_tokens=None, reasoning=None, metadata=None, store=None, include_usage=None, extra_query=None, extra_body=None, extra_headers=None, extra_args=None), tools=[FunctionTool(name='in_n_out_burger_assistant', description='Get prices with tax for In-N-Out Burger', params_json_schema={'properties': {'input': {'title': 'Input', 'type': 'string'}}, 'required': ['input'], 'title': 'in_n_out_burger_assistant_args', 'type': 'object', 'additionalProperties': False}, on_invoke_tool=<function function_tool.<locals>._create_function_tool.<locals>._on_invoke_tool at 0x79c46398c4a0>, strict_json_schema=True, is_enabled=True), FunctionTool(name='mcdonalds_assistant', description='Get prices for McDonalds', params_json_schema={'properties': {'input': {'title': 'Input', 'type': 'string'}}, 'required': ['input'], 'title': 'mcdonalds_assistant_args', 'type': 'object', 'additionalProperties': False}, on_invoke_tool=<function function_tool.<locals>._create_function_tool.<locals>._on_invoke_tool at 0x79c46398c0e0>, strict_json_schema=True, is_enabled=True)], mcp_servers=[], mcp_config={}, input_guardrails=[], output_guardrails=[], output_type=None, hooks=None, tool_use_behavior='run_llm_again', reset_tool_choice=True))"
            ]
          },
          "metadata": {},
          "execution_count": 34
        }
      ]
    },
    {
      "cell_type": "code",
      "source": [
        "agent = Agent(name=\"In-N-Out Cashier Assistant\",\n",
        "              instructions=f\"You are a helpful server at In-N-Out Burger respond to questions based on the menu below: \\n\\n{MENU_PRICES}\",\n",
        "              model=\"gpt-4o\",\n",
        "              tools=[calculate_tax]\n",
        "              )"
      ],
      "metadata": {
        "id": "nWKm3qvkPz7U"
      },
      "execution_count": null,
      "outputs": []
    },
    {
      "cell_type": "code",
      "source": [
        "result = await Runner.run(agent, \"ok first let me order a Double Doubles with french fries.\")\n",
        "print(result.final_output)"
      ],
      "metadata": {
        "colab": {
          "base_uri": "https://localhost:8080/"
        },
        "id": "QOEvGJsNP1wH",
        "outputId": "1eee8754-e1c5-4555-8676-35e89254e97d"
      },
      "execution_count": null,
      "outputs": [
        {
          "output_type": "stream",
          "name": "stdout",
          "text": [
            "Sure! Here's your order:\n",
            "\n",
            "- 1 Double Double®: $5.90\n",
            "- 1 French Fries: $2.30\n",
            "\n",
            "**Subtotal:** $8.20\n",
            "\n",
            "Would you like me to calculate the total with tax?\n"
          ]
        }
      ]
    },
    {
      "cell_type": "code",
      "source": [
        "result.to_input_list()"
      ],
      "metadata": {
        "colab": {
          "base_uri": "https://localhost:8080/"
        },
        "id": "qseNKiDEP4Xl",
        "outputId": "f86b2913-325e-4fe9-d8a4-dce527db7da4"
      },
      "execution_count": null,
      "outputs": [
        {
          "output_type": "execute_result",
          "data": {
            "text/plain": [
              "[{'content': 'ok first let me order a Double Doubles with french fries.',\n",
              "  'role': 'user'},\n",
              " {'id': 'msg_685e57d308f881a389c9c8ff8822a7f709285786ce16e47a',\n",
              "  'content': [{'annotations': [],\n",
              "    'text': \"Sure! Here's your order:\\n\\n- 1 Double Double®: $5.90\\n- 1 French Fries: $2.30\\n\\n**Subtotal:** $8.20\\n\\nWould you like me to calculate the total with tax?\",\n",
              "    'type': 'output_text',\n",
              "    'logprobs': []}],\n",
              "  'role': 'assistant',\n",
              "  'status': 'completed',\n",
              "  'type': 'message'}]"
            ]
          },
          "metadata": {},
          "execution_count": 37
        }
      ]
    },
    {
      "cell_type": "code",
      "source": [
        "def assemble_conversation(result, new_input):\n",
        "    if result !=None:\n",
        "        new_input = result.to_input_list() + [{'content': new_input,\n",
        "                                                'role': 'user'}]\n",
        "    else:\n",
        "        new_input = new_input\n",
        "    return new_input"
      ],
      "metadata": {
        "id": "bhq50ly1P6IA"
      },
      "execution_count": null,
      "outputs": []
    },
    {
      "cell_type": "code",
      "source": [
        "new_prompt = \"Yes make it a combo please\""
      ],
      "metadata": {
        "id": "kyJtN4nLP74Z"
      },
      "execution_count": null,
      "outputs": []
    },
    {
      "cell_type": "code",
      "source": [
        "new_input = assemble_conversation(result, new_prompt)\n",
        "\n",
        "result = await Runner.run(agent, new_input)\n",
        "print(result.final_output)"
      ],
      "metadata": {
        "colab": {
          "base_uri": "https://localhost:8080/"
        },
        "id": "a0E_NbPMP9Vl",
        "outputId": "8e7c3818-0a36-4b6d-f480-0df1f49c2b8a"
      },
      "execution_count": null,
      "outputs": [
        {
          "output_type": "stream",
          "name": "stdout",
          "text": [
            "[debug] calculating tax function called order:10.45 tax:7.25\n",
            "Here's the total for your order:\n",
            "\n",
            "- **Subtotal:** $10.45\n",
            "- **Tax:** $0.76\n",
            "\n",
            "**Total:** $11.21\n",
            "\n",
            "Is there anything else you'd like to add?\n"
          ]
        }
      ]
    },
    {
      "cell_type": "code",
      "source": [
        "new_prompt = \"Yes can I get a coffee as well. thats all\" #coffee $1.35"
      ],
      "metadata": {
        "id": "5qNGqEM6P_Z_"
      },
      "execution_count": null,
      "outputs": []
    },
    {
      "cell_type": "code",
      "source": [
        "new_input = assemble_conversation(result, new_prompt)\n",
        "\n",
        "result = await Runner.run(agent, new_input)\n",
        "print(result.final_output)"
      ],
      "metadata": {
        "colab": {
          "base_uri": "https://localhost:8080/"
        },
        "id": "jX6_GFNdQBvA",
        "outputId": "5b4e4887-a269-4210-998c-c9c1135259fe"
      },
      "execution_count": null,
      "outputs": [
        {
          "output_type": "stream",
          "name": "stdout",
          "text": [
            "[debug] calculating tax function called order:11.8 tax:7.25\n",
            "I've added a coffee to your order:\n",
            "\n",
            "- **Double Double® Combo:** $10.45\n",
            "- **Coffee:** $1.35\n",
            "\n",
            "**Subtotal:** $11.80  \n",
            "**Tax:** $0.86  \n",
            "\n",
            "**Total:** $12.66  \n",
            "\n",
            "Is there anything else you need?\n"
          ]
        }
      ]
    },
    {
      "cell_type": "code",
      "source": [],
      "metadata": {
        "id": "Aoa9O-TkQDWU"
      },
      "execution_count": null,
      "outputs": []
    }
  ]
}